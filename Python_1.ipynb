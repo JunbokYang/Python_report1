{
  "nbformat": 4,
  "nbformat_minor": 0,
  "metadata": {
    "colab": {
      "name": "Python_1.ipynb",
      "provenance": [],
      "authorship_tag": "ABX9TyOjVMy9maoMjixTyD/pVKwX",
      "include_colab_link": true
    },
    "kernelspec": {
      "name": "python3",
      "display_name": "Python 3"
    },
    "language_info": {
      "name": "python"
    }
  },
  "cells": [
    {
      "cell_type": "markdown",
      "metadata": {
        "id": "view-in-github",
        "colab_type": "text"
      },
      "source": [
        "<a href=\"https://colab.research.google.com/github/JunbokYang/Python_report1/blob/main/Python_1.ipynb\" target=\"_parent\"><img src=\"https://colab.research.google.com/assets/colab-badge.svg\" alt=\"Open In Colab\"/></a>"
      ]
    },
    {
      "cell_type": "code",
      "execution_count": 2,
      "metadata": {
        "colab": {
          "base_uri": "https://localhost:8080/"
        },
        "id": "AcvsPiVWofDB",
        "outputId": "cd007cbf-0b93-4468-9990-87c8fe3d644d"
      },
      "outputs": [
        {
          "output_type": "stream",
          "name": "stdout",
          "text": [
            "Hello World\n"
          ]
        }
      ],
      "source": [
        "print(\"Hello World\")\n",
        "\n"
      ]
    },
    {
      "cell_type": "code",
      "source": [
        "print('Hello World')\n"
      ],
      "metadata": {
        "colab": {
          "base_uri": "https://localhost:8080/"
        },
        "id": "UsgaEreSpB5e",
        "outputId": "0cc215c0-12e8-45f7-b51c-4aa3ef2b26b7"
      },
      "execution_count": 4,
      "outputs": [
        {
          "output_type": "stream",
          "name": "stdout",
          "text": [
            "Hello World\n"
          ]
        }
      ]
    },
    {
      "cell_type": "code",
      "source": [
        "print(1+2)\n"
      ],
      "metadata": {
        "colab": {
          "base_uri": "https://localhost:8080/"
        },
        "id": "--kIkCKypM8u",
        "outputId": "950d721f-9e05-4507-80a1-0eeb68f450c2"
      },
      "execution_count": 5,
      "outputs": [
        {
          "output_type": "stream",
          "name": "stdout",
          "text": [
            "3\n"
          ]
        }
      ]
    },
    {
      "cell_type": "code",
      "source": [
        "print(2*3)\n"
      ],
      "metadata": {
        "colab": {
          "base_uri": "https://localhost:8080/"
        },
        "id": "kniai9O1pQLR",
        "outputId": "31348b20-fef5-485d-8038-8129b2133d26"
      },
      "execution_count": 6,
      "outputs": [
        {
          "output_type": "stream",
          "name": "stdout",
          "text": [
            "6\n"
          ]
        }
      ]
    },
    {
      "cell_type": "code",
      "source": [
        "print(True)\n"
      ],
      "metadata": {
        "colab": {
          "base_uri": "https://localhost:8080/"
        },
        "id": "ebo-xhFFpXq5",
        "outputId": "d7b72008-b5bb-4c8b-df4d-f2b7fa780542"
      },
      "execution_count": 7,
      "outputs": [
        {
          "output_type": "stream",
          "name": "stdout",
          "text": [
            "True\n"
          ]
        }
      ]
    },
    {
      "cell_type": "code",
      "source": [
        "print(False)\n"
      ],
      "metadata": {
        "colab": {
          "base_uri": "https://localhost:8080/"
        },
        "id": "M2k6aVhXs_zO",
        "outputId": "123a78a7-fdf1-4001-8967-afec8afb28b3"
      },
      "execution_count": 8,
      "outputs": [
        {
          "output_type": "stream",
          "name": "stdout",
          "text": [
            "False\n"
          ]
        }
      ]
    },
    {
      "cell_type": "code",
      "source": [
        "a = 3;b = 4;c = a + b;print(c); print(a); print(b)\n",
        "\n",
        "\n"
      ],
      "metadata": {
        "colab": {
          "base_uri": "https://localhost:8080/"
        },
        "id": "NudOXVmJtG3v",
        "outputId": "897b264e-6402-483d-b13e-857f744e1122"
      },
      "execution_count": 12,
      "outputs": [
        {
          "output_type": "stream",
          "name": "stdout",
          "text": [
            "7\n",
            "3\n",
            "4\n"
          ]
        }
      ]
    },
    {
      "cell_type": "code",
      "source": [
        "a = \"안녕하세요.\";\n",
        "b = \"반갑습니다.\";\n",
        "c = a + b\n",
        "print(c)\n",
        "\n"
      ],
      "metadata": {
        "colab": {
          "base_uri": "https://localhost:8080/"
        },
        "id": "khqtwvCdtqMG",
        "outputId": "fcec1635-2a87-4ec3-ff35-c36917b98f4f"
      },
      "execution_count": 13,
      "outputs": [
        {
          "output_type": "stream",
          "name": "stdout",
          "text": [
            "안녕하세요.반갑습니다.\n"
          ]
        }
      ]
    },
    {
      "cell_type": "code",
      "source": [
        "a =\"안녕하세요.\"\n",
        "b = a*10\n",
        "print(b)\n"
      ],
      "metadata": {
        "colab": {
          "base_uri": "https://localhost:8080/"
        },
        "id": "yEVtG4Ent-nn",
        "outputId": "47f4bf76-b641-402a-e9ff-647ecd4525b6"
      },
      "execution_count": 14,
      "outputs": [
        {
          "output_type": "stream",
          "name": "stdout",
          "text": [
            "안녕하세요.안녕하세요.안녕하세요.안녕하세요.안녕하세요.안녕하세요.안녕하세요.안녕하세요.안녕하세요.안녕하세요.\n"
          ]
        }
      ]
    },
    {
      "cell_type": "code",
      "source": [
        "print(\"###############\")\n",
        "print(\"#\" * 15)\n"
      ],
      "metadata": {
        "colab": {
          "base_uri": "https://localhost:8080/"
        },
        "id": "aU7S4FBIuRKg",
        "outputId": "02203b1e-4444-481a-b2ec-47277a96a856"
      },
      "execution_count": 15,
      "outputs": [
        {
          "output_type": "stream",
          "name": "stdout",
          "text": [
            "###############\n",
            "###############\n"
          ]
        }
      ]
    },
    {
      "cell_type": "markdown",
      "source": [
        "아버지와 어머니 그리고 삼촌에게 감사한 마음을 전하고 싶습니다. \n",
        "아버지에게는 10만 원. 어머니에게는 15만 원. 삼촌에게는 \"감사합니다.\"\n",
        "변수 : _Father, _Mother, _Uncle"
      ],
      "metadata": {
        "id": "q_zlyrIpvLun"
      }
    },
    {
      "cell_type": "code",
      "source": [
        "_Father = \"100,000\"\n",
        "_Mother = \"150,000\"\n",
        "_Uncle = \"감사합니다.\"\n",
        "print(\"아버지=\", _Father, \"원\")\n",
        "print(\"어머니=\", _Mother, \"원\")\n",
        "print(\"삼촌=\", _Uncle)\n"
      ],
      "metadata": {
        "colab": {
          "base_uri": "https://localhost:8080/"
        },
        "id": "k28BDbYIvaKl",
        "outputId": "2a7041fd-0b6f-4319-c47d-98c10eee8c78"
      },
      "execution_count": 23,
      "outputs": [
        {
          "output_type": "stream",
          "name": "stdout",
          "text": [
            "아버지= 100,000 원\n",
            "어머니= 150,000 원\n",
            "삼촌= 감사합니다.\n"
          ]
        }
      ]
    },
    {
      "cell_type": "markdown",
      "source": [
        "변수의 규칙: 문자 또는 _로 시작(Father, father, _father) / 문자, 숫자, _로 구성\n",
        "(Father69, father55, father_56) / 공백 절대 안 된다. 안 쓰는 것이 좋다. 특수 문자 절대 안 된다."
      ],
      "metadata": {
        "id": "XhL_eXFOxhGA"
      }
    },
    {
      "cell_type": "markdown",
      "source": [
        "FATHER, father, MOTHER, mother, _Father, _father, keyword(True, False, for, while, If, continue, break, class....)\n"
      ],
      "metadata": {
        "id": "TP7TJFDQyO_2"
      }
    },
    {
      "cell_type": "markdown",
      "source": [
        "숫자 자료형 = 숫자, 문자 자료형 = 모든 문자들.."
      ],
      "metadata": {
        "id": "Or2_QaZ90BQu"
      }
    },
    {
      "cell_type": "code",
      "source": [
        "a = 2\n",
        "b = int(\"2\")\n",
        "c= a+ b\n",
        "print(c)\n"
      ],
      "metadata": {
        "colab": {
          "base_uri": "https://localhost:8080/"
        },
        "id": "gYsIRXm30M1O",
        "outputId": "da72f8c1-d1a5-4581-bf97-5a85785ec8b8"
      },
      "execution_count": 25,
      "outputs": [
        {
          "output_type": "stream",
          "name": "stdout",
          "text": [
            "4\n"
          ]
        }
      ]
    },
    {
      "cell_type": "markdown",
      "source": [
        "형변환 : 정수형으로 변환하고자할 때 int(), 실수형으로 변환하고자 할 때 float(), 문자 자료형으로 변환하고자 할 때 str() / int(\"꽈배기\")->변환 불가, int(float(\"2.5\"))=2"
      ],
      "metadata": {
        "id": "tmkMsHN90bye"
      }
    },
    {
      "cell_type": "markdown",
      "source": [
        "산술연산자 : + 더하기 print(4+3), - 빼기 print(2-1), *곱하기 print(5*4), /나누기 print(4/2), % 나머지 print(5 % 2), // 몫 print(6 // 2), ** 거듭제곱 \n",
        "print(4**2)"
      ],
      "metadata": {
        "id": "bcX3X0rH1aqI"
      }
    }
  ]
}